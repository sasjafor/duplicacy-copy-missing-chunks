{
 "cells": [
  {
   "cell_type": "code",
   "execution_count": null,
   "metadata": {},
   "outputs": [],
   "source": [
    "# read input data\n",
    "\n",
    "import re\n",
    "\n",
    "with open(\"missing-chunks.txt\", \"r\") as f:\n",
    "    chunk_id_re = re.compile(\"[a-f0-9]{64}\")\n",
    "    chunk_ids = re.findall(chunk_id_re, f.read())\n",
    "\n",
    "print(chunk_ids)"
   ]
  },
  {
   "cell_type": "code",
   "execution_count": null,
   "metadata": {},
   "outputs": [],
   "source": [
    "import subprocess\n",
    "\n",
    "# enter your rclone source storage here\n",
    "source_storage = \"\"\n",
    "# enter your reclone destination storage here\n",
    "destination_storage = \"\"\n",
    "\n",
    "for chunk_id in chunk_ids:\n",
    "    folder = chunk_id[0:2]\n",
    "    id = chunk_id[2:]\n",
    "\n",
    "    print(f\"folder: {folder}, id: {id}\")\n",
    "\n",
    "    subprocess.run([\"rclone\", \"copy\", \"-P\", f\"{source_storage}/chunks/{folder}/{id}\", f\"{destination_storage}/chunks/{folder}/{id}\"])"
   ]
  }
 ],
 "metadata": {
  "kernelspec": {
   "display_name": "Python 3",
   "language": "python",
   "name": "python3"
  },
  "language_info": {
   "codemirror_mode": {
    "name": "ipython",
    "version": 3
   },
   "file_extension": ".py",
   "mimetype": "text/x-python",
   "name": "python",
   "nbconvert_exporter": "python",
   "pygments_lexer": "ipython3",
   "version": "3.11.3"
  }
 },
 "nbformat": 4,
 "nbformat_minor": 2
}
